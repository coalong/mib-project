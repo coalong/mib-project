{
  "nbformat": 4,
  "nbformat_minor": 0,
  "metadata": {
    "colab": {
      "name": "model_test.ipynb",
      "private_outputs": true,
      "provenance": [],
      "collapsed_sections": [],
      "mount_file_id": "1r5az8J2tNRvuiFRka5ww5q58xK4e7X94",
      "authorship_tag": "ABX9TyP4GWHLwF2lU44ASa82AAuw",
      "include_colab_link": true
    },
    "kernelspec": {
      "name": "python3",
      "display_name": "Python 3"
    },
    "language_info": {
      "name": "python"
    }
  },
  "cells": [
    {
      "cell_type": "markdown",
      "metadata": {
        "id": "view-in-github",
        "colab_type": "text"
      },
      "source": [
        "<a href=\"https://colab.research.google.com/github/world970511/recommendation_study/blob/main/model_test.ipynb\" target=\"_parent\"><img src=\"https://colab.research.google.com/assets/colab-badge.svg\" alt=\"Open In Colab\"/></a>"
      ]
    },
    {
      "cell_type": "markdown",
      "metadata": {
        "id": "_BJZ48KlgaJV"
      },
      "source": [
        "#**컨텐츠 기반 추천 시스템**\n",
        "####컨텐츠 기반 추천시스템은 사용자가 이전에 구매한 상품중에서 좋아하는 상품들과 유사한 상품들을 추천하는 방법. 이때의 컨텐츠(Items)들을 벡터 형태로 표현해서 유사도를 확인함\n",
        "\n",
        "#####추천시스템의 장점\n",
        "1.   다른 유저의 데이터가 필요하지 않다.\n",
        "2.   추천할 수 있는 아이템의 범위가 넓다. 즉 새로운 아이템이나 인기 없는 아이템도 추천이 가능한다.\n",
        "1.   추천하는 이유를 제시할 수 있다. 아이템의 features로 컨텐츠를 분석하는 것이 가능하기 때문에, 특정 feature가 추천의 이유가 됐다고 설명이 가능하다.\n",
        "\n",
        "#####컨텐츠 기반 추천시스템의 단점\n",
        "1.   적절한 features를 찾기가 어렵다.\n",
        "2.   새로운 유저를 위한 추천이 어렵다. 특, 유저 프로필이 존재하지 않거나 데이터가 매우 부족한 경우에 해당 유저에게 추천시스템을 적용하기 어렵다.\n",
        "1.   선호하는 특성을 가진 항목을 반복 추천한다. 즉 추천시스템이 overspecialization되는 경향이 있으며, 유저의 다양한 취향을 반영하기 어렵다. \n",
        "\n",
        "\n"
      ]
    },
    {
      "cell_type": "markdown",
      "metadata": {
        "id": "Ea_fIsYOsvYX"
      },
      "source": [
        "#텐서플로우 레코멘더 설치 \n",
        "텐서플로우 추천시스템 생성을 위한 라이브러리 설치"
      ]
    },
    {
      "cell_type": "code",
      "metadata": {
        "id": "TAEhxOLCsgmy"
      },
      "source": [
        "pip install tensorflow-recommenders"
      ],
      "execution_count": null,
      "outputs": []
    },
    {
      "cell_type": "code",
      "metadata": {
        "id": "LYMa5h1Zm2V0"
      },
      "source": [
        "from google.colab import drive\n",
        "drive.mount('/content/drive')"
      ],
      "execution_count": null,
      "outputs": []
    },
    {
      "cell_type": "code",
      "metadata": {
        "id": "qPf4-LEDnzEs"
      },
      "source": [
        "import pandas as pd\n",
        "import numpy as np\n",
        "from scipy.spatial.distance import cosine\n",
        "from sklearn.metrics.pairwise import cosine_similarity \n",
        "import tensorflow as tf\n",
        "import tensorflow_recommenders as tfrs"
      ],
      "execution_count": null,
      "outputs": []
    },
    {
      "cell_type": "code",
      "metadata": {
        "id": "D-9i7hLX0S6L"
      },
      "source": [
        "data_19=pd.read_csv('/content/drive/MyDrive/project/MIB/2019_done.csv')\n",
        "data_19"
      ],
      "execution_count": null,
      "outputs": []
    },
    {
      "cell_type": "code",
      "metadata": {
        "id": "L5cYc5E80-81"
      },
      "source": [
        "#최저고도가 0보다 작은 경우 제거\n",
        "idx_nm_1 = data_19[data_19['최저고도'] <0 ].index\n",
        "data_19= data_19.drop(idx_nm_1)\n",
        "\n",
        "#Unnamed:0 제거\n",
        "data_19.drop('Unnamed: 0', axis=1, inplace=True)\n",
        "\n",
        "data_19"
      ],
      "execution_count": null,
      "outputs": []
    },
    {
      "cell_type": "markdown",
      "metadata": {
        "id": "Aiff_eN2cmHk"
      },
      "source": [
        "#**코사인 유사도**\n",
        "####**무게나 키 라는 x, y축 데이터를 고려하지 않고 두 벡터간의 각도로만 유사도를 측정하는 것. 일반적으로 벡터의 크기가 중요하지 않을 때 거리를 측정하기 위한 방법으로 사용**\n",
        "https://docs.likejazz.com/cosine-sim/ 참고! <br><br>\n",
        "\n",
        "+2차원 배열로 변경해준 이유<br>\n",
        "-Expected 2D array, got 1D array instead 에러 때문에. sklearn은 거의 모든 경우에서 자신의 인풋 X가 2d로 들어 올 것으로 상정하고 있음.<br>\n",
        "근데 여기다가 1d array 또는 list 를 주면? 이게 하나의 feature에 여러개의 samples이 있는건지, 여러개의 features에 하나씩의 sample이 있는건지 알 수가 없다. 그래서 오류가 발생하게됨<br>\n",
        "출처: https://datamasters.co.kr/55 [데이터마스터]"
      ]
    },
    {
      "cell_type": "code",
      "metadata": {
        "id": "UwyF1HgOpnFS"
      },
      "source": [
        "def cos_sim_recommendations(hike_idx, df, index_name, n=5):\n",
        "    hike = df.iloc[hike_idx].to_numpy().reshape(1, -1)# 테스트 예시를 2차원 배열로 변경\n",
        "    cs = cosine_similarity(hike, df)# 코사인 유사도 체크\n",
        "    rec_index = np.argsort(cs)[0][-6:][::-1][1:]# 정렬, 근데 왜 이렇게 짰는지는 모르겠음\n",
        "\n",
        "    recommendations = []\n",
        "    for rec in rec_index:#인덱스에 따라 파일명 추출\n",
        "        recommendations.append(index_name[rec])\n",
        "    return recommendations\n",
        "\n",
        "if __name__ == '__main__':\n",
        "    d1=data_19\n",
        "    index_name = d1['gpx이름'].values  #gpx이름 컬럼을 리스트로 추출하여 저장\n",
        "    d1.drop('gpx이름', axis=1, inplace=True)# 'gpx이름 컬럼 제거(숫자로 변경되지 않은 항목 제거)\n",
        "\n",
        "    hike_name = 'done_4002.gpx'#테스트 예시\n",
        "    for idx, name in enumerate(index_name):#테스트 예시의 인덱스 추출\n",
        "        if name == hike_name:\n",
        "            hike_idx = idx\n",
        "    print()\n",
        "    recommendations = cos_sim_recommendations(hike_idx, data_19, index_name, n=5)# 코사인 유사도 비교 함수\n",
        "\n",
        "#테스트 예시 입력, 결과물 출력\n",
        "print('선택예시:',hike_name)\n",
        "print(data_19.iloc[hike_idx])\n",
        "print('================================')\n",
        "for n in recommendations:\n",
        "      for idx, name in enumerate(index_name):\n",
        "        if name == n:\n",
        "          print(n)\n",
        "          print(data_19.iloc[idx])\n",
        "          print()\n",
        "          break"
      ],
      "execution_count": null,
      "outputs": []
    },
    {
      "cell_type": "code",
      "metadata": {
        "id": "KXhV5kYgWmkI"
      },
      "source": [
        ""
      ],
      "execution_count": null,
      "outputs": []
    }
  ]
}