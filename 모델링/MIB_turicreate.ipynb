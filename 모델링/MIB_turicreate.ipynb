{
  "nbformat": 4,
  "nbformat_minor": 0,
  "metadata": {
    "colab": {
      "name": "MIB_turicreate.ipynb",
      "private_outputs": true,
      "provenance": [],
      "collapsed_sections": []
    },
    "kernelspec": {
      "name": "python3",
      "display_name": "Python 3"
    },
    "language_info": {
      "name": "python"
    },
    "accelerator": "TPU"
  },
  "cells": [
    {
      "cell_type": "markdown",
      "metadata": {
        "id": "Ps-kZWhVdP1A"
      },
      "source": [
        "#turicreate api를 활용한 추천 모델 구현 및 저장\n",
        "https://apple.github.io/turicreate/docs/api/turicreate.toolkits.recommender.html\n",
        "\n",
        "####turicreate - 애플에서 만든 오픈 소스 라이브러리.  이미지 분류, 객체 감지, 스타일 전송, 추천 등의 Core ML 모델을 생성할 수 있다.\n",
        "\n",
        "\n",
        "---\n",
        "####이 코드에서 구현한 추천모델\n",
        "\n",
        " the ranking factorization model : 사용자가 아이템을 높게 평가할지 예측하는 것을 목표로 하는 모델. (추천의 정확도보다는 평가 예측을 중심으로 하는 모델) 각 사용자 및 항목에 대한 잠재 요소를 학습하고 해당(사용자, 항목) 쌍을 관찰할 가능성에 따라 항목의 순위를 지정한다.   <br><br>\n",
        " content base model : 콘텐츠 기반 추천. 아이템 내용의 유사성을 사용한다. 이 모델에서 두 항목 간의 유사도 점수는 먼저 각 열에 대한 항목 데이터 간의 유사도를 계산한 후, 컬럼별 유사도의 가중 평균을 취하여 계산된다. \n",
        "\n",
        "\n",
        "---\n",
        "####참고자료\n",
        "https://ichi.pro/ko/turi-createlo-chucheon-siseutem-guchug-162229068408433\n",
        "https://apple.github.io/turicreate/docs/userguide/recommender/<br>\n",
        "*국내 자료 없음. 공식 문서 또는 깃허브 참조.\n"
      ]
    },
    {
      "cell_type": "code",
      "metadata": {
        "id": "HYXQxi7E-3YZ"
      },
      "source": [
        "#turicreate 설치\n",
        "!apt install libnvrtc8.0\n",
        "!pip uninstall -y mxnet-cu80 && pip install mxnet-cu80==1.1.0\n",
        "!pip install turicreate"
      ],
      "execution_count": null,
      "outputs": []
    },
    {
      "cell_type": "code",
      "metadata": {
        "id": "yiZDbrH4ObKO"
      },
      "source": [
        "#코사인 유사도 비교를 위해 필요한 라이브러리\n",
        "import pandas as pd\n",
        "import numpy as np\n",
        "\n",
        "#turicreata api\n",
        "import turicreate as tc\n",
        "\n",
        "#기타\n",
        "import re"
      ],
      "execution_count": null,
      "outputs": []
    },
    {
      "cell_type": "code",
      "metadata": {
        "id": "Ha-0M8KwSGDY"
      },
      "source": [
        "#데이터 호출 및 유저 id 생성, 불필요한 피처 제거\n",
        "data=pd.read_csv('/content/drive/MyDrive/project/MIB/DATA/df_model_real_final.csv')\n",
        "data.drop('Unnamed: 0', axis=1, inplace=True)\n",
        "data.drop('p1_lat', axis=1, inplace=True)\n",
        "data.drop('p1_log', axis=1, inplace=True)\n",
        "data.drop('p1_time', axis=1, inplace=True)\n",
        "data.drop('reached_top', axis=1, inplace=True)\n",
        "data.drop('sex_age', axis=1, inplace=True)\n",
        "data.drop('dist/hour', axis=1, inplace=True)\n",
        "data.drop('season_time', axis=1, inplace=True)\n",
        "data.drop('speed_median', axis=1, inplace=True)\n",
        "data.drop('sports_type', axis=1, inplace=True)\n",
        "data.drop('top_speed', axis=1, inplace=True)\n",
        "\n",
        "# 중복제거\n",
        "data.drop_duplicates(subset=None, keep='first', inplace=False, ignore_index=False)\n",
        "\n",
        "#컬럼명 변경\n",
        "data.rename(columns={'name':'start_location'},inplace=True)\n",
        "\n",
        "#유저 id 생성\n",
        "data['id']=data['f_name'].apply(lambda x: re.sub(r\"[^0-9 ]\", \"\", x))\n",
        "\n",
        "#레벨 숫자로 변경\n",
        "data['level']=data['level'].apply(lambda x: re.sub(r\"중하\", \"2\", x))\n",
        "data['level']=data['level'].apply(lambda x: re.sub(r\"중상\", \"4\", x))\n",
        "data['level']=data['level'].apply(lambda x: re.sub(r\"하\", \"1\", x))\n",
        "data['level']=data['level'].apply(lambda x: re.sub(r\"중\", \"3\", x))\n",
        "data['level']=data['level'].apply(lambda x: re.sub(r\"상\", \"5\", x))\n",
        "\n",
        "#수치화\n",
        "data['level']=pd.to_numeric(data['level'])\n",
        "\n",
        "#운동 컬럼 추가\n",
        "exercise=[]\n",
        "for i in range(len(data)):\n",
        "    d=data.loc[i]\n",
        "    if d['level']>=3: \n",
        "      exercise.append(1) # 정상 도달\n",
        "    elif 1 in d[['자운봉','백운대','인수봉','비봉','만경대','향로봉','만장봉','족두리봉','선인봉','오봉']].values.tolist(): \n",
        "      exercise.append(1) # 정상 도달\n",
        "    else:\n",
        "        exercise.append(0) # 정상 미도달    \n",
        "data['건강'] = exercise\n",
        "\n",
        "#힐링 컬럼 추가\n",
        "heal= []\n",
        "for i in range(len(data)):\n",
        "    d=data.loc[i]\n",
        "    if 1 in d[['송추계곡','사패산/포대능선','사모바위','의상능선','숨은벽','대동문','북한산성','진관사','진흥왕순수비','대남문']].values.tolist(): \n",
        "        heal.append(1) # 경관 도달\n",
        "    else:\n",
        "        heal.append(0) # 경관 미도달\n",
        "data['힐링'] = heal\n",
        "\n",
        "data.to_csv('df_h_e_final.csv')"
      ],
      "execution_count": null,
      "outputs": []
    },
    {
      "cell_type": "code",
      "metadata": {
        "id": "HGImbrXG8gZD"
      },
      "source": [
        "data"
      ],
      "execution_count": null,
      "outputs": []
    },
    {
      "cell_type": "code",
      "metadata": {
        "id": "x0M2Bh19Utg0"
      },
      "source": [
        "#트레킹 코스 정보\n",
        "trail=data[['f_name','start_location','track_length','lowest_ele','top_ele','elevation_gain','level',\t'sub_ele','자운봉',\t'백운대',\t'인수봉',\t'비봉','만경대','향로봉',\t'만장봉','족두리봉','선인봉','오봉','송추계곡','사패산/포대능선','사모바위','의상능선','숨은벽','대동문','북한산성','진관사','진흥왕순수비','대남문','건강','힐링']]\n",
        "td=tc.SFrame(trail)\n",
        "\n",
        "# 유저 정보\n",
        "user=data[['id','sex','age']]\n",
        "ud=tc.SFrame(user)\n"
      ],
      "execution_count": null,
      "outputs": []
    },
    {
      "cell_type": "code",
      "metadata": {
        "id": "0zc9Yy67oyv-"
      },
      "source": [
        "#테스트셋/ 데이터셋 분리\n",
        "d=tc.SFrame(data)\n",
        "train,test = tc.recommender.util.random_split_by_user(d,user_id='id',item_id='f_name')\n",
        "print(len(train),len(test))"
      ],
      "execution_count": null,
      "outputs": []
    },
    {
      "cell_type": "markdown",
      "metadata": {
        "id": "8agwVxCvIBQ6"
      },
      "source": [
        "#recommender.ranking_factorization_recommender 를 사용한 추천 모델 생성 및 저장\n"
      ]
    },
    {
      "cell_type": "code",
      "metadata": {
        "id": "1RW9FXz0RB5t"
      },
      "source": [
        "#Factorization machines\n",
        "ranking_fac_model=tc.recommender.ranking_factorization_recommender.create(d,user_id='id',item_id='f_name',user_data=ud, item_data=td,solver='adagrad')\n",
        "\n",
        "#폴더 생성하여 모델 저장\n",
        "ranking_fac_model.save('/content/drive/MyDrive/project/MIB/DATA/hike_ranking_factorization_recommender')"
      ],
      "execution_count": null,
      "outputs": []
    },
    {
      "cell_type": "code",
      "metadata": {
        "id": "XlHyYEl_BKcM"
      },
      "source": [
        "ranking_fac_model"
      ],
      "execution_count": null,
      "outputs": []
    },
    {
      "cell_type": "markdown",
      "metadata": {
        "id": "MK44-_s74DOQ"
      },
      "source": [
        "# item-item similarities based on users 생성 및 저장"
      ]
    },
    {
      "cell_type": "code",
      "metadata": {
        "id": "Ow-JiL5y0_f8"
      },
      "source": [
        "#공통된 유저를 기반으로 하는 아이템 모델 생성\n",
        "fac_model= tc.item_similarity_recommender.create(train,user_id='id',item_id='f_name')\n",
        "#폴더 생성하여 저장\n",
        "fac_model.save('/content/drive/MyDrive/project/MIB/DATA/hike_item_item_model')"
      ],
      "execution_count": null,
      "outputs": []
    },
    {
      "cell_type": "markdown",
      "metadata": {
        "id": "9S6JU_t1bvy6"
      },
      "source": [
        "#콘텐츠 기반 추천 모델 생성 및 저장"
      ]
    },
    {
      "cell_type": "code",
      "metadata": {
        "id": "qZ4ioJG1Bg1X"
      },
      "source": [
        "#관계 정보\n",
        "od=tc.SFrame(data[['id','f_name']])"
      ],
      "execution_count": null,
      "outputs": []
    },
    {
      "cell_type": "code",
      "metadata": {
        "id": "-BbZgHONRDn5"
      },
      "source": [
        "#컨텐츠 기반 모델 생성\n",
        "content_model=tc.recommender.item_content_recommender.create(td,'f_name',observation_data=od , user_id='id')\n",
        "#폴더 생성하여 저장\n",
        "content_model.save('/content/drive/MyDrive/project/MIB/DATA/hike_content_recommender')"
      ],
      "execution_count": null,
      "outputs": []
    },
    {
      "cell_type": "markdown",
      "metadata": {
        "id": "0PJdUnpZKQDt"
      },
      "source": [
        "###user/item csv 저장"
      ]
    },
    {
      "cell_type": "code",
      "metadata": {
        "id": "n0ef4O98Ki6N"
      },
      "source": [
        "trail.to_csv('/content/drive/MyDrive/project/MIB/DATA/trail.csv')\n",
        "user.to_csv('/content/drive/MyDrive/project/MIB/DATA/user.csv')\n",
        "\n",
        "tr=pd.DataFrame(train)\n",
        "te=pd.DataFrame(test)\n",
        "tr.to_csv('/content/drive/MyDrive/project/MIB/DATA/train.csv')\n",
        "te.to_csv('/content/drive/MyDrive/project/MIB/DATA/test.csv')"
      ],
      "execution_count": null,
      "outputs": []
    }
  ]
}