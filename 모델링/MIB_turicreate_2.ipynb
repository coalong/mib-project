{
  "nbformat": 4,
  "nbformat_minor": 0,
  "metadata": {
    "colab": {
      "name": "MIB_turicreate_2.ipynb",
      "private_outputs": true,
      "provenance": [],
      "collapsed_sections": []
    },
    "kernelspec": {
      "name": "python3",
      "display_name": "Python 3"
    },
    "language_info": {
      "name": "python"
    }
  },
  "cells": [
    {
      "cell_type": "markdown",
      "metadata": {
        "id": "v50DukjI8Ttp"
      },
      "source": [
        "#**모델 호출 및 활용**\n",
        "\n",
        "---\n",
        "\n"
      ]
    },
    {
      "cell_type": "code",
      "metadata": {
        "id": "_e7Phtsyxr0x"
      },
      "source": [
        "#turicreate 설치\n",
        "!apt install libnvrtc8.0\n",
        "!pip uninstall -y mxnet-cu80 && pip install mxnet-cu80==1.1.0\n",
        "!pip install turicreate"
      ],
      "execution_count": null,
      "outputs": []
    },
    {
      "cell_type": "code",
      "metadata": {
        "id": "r_uxO6439WPg"
      },
      "source": [
        "import pandas as pd\n",
        "import numpy as np\n",
        "\n",
        "#turicreata api\n",
        "import turicreate as tc\n",
        "\n",
        "#기타\n",
        "import re"
      ],
      "execution_count": null,
      "outputs": []
    },
    {
      "cell_type": "markdown",
      "metadata": {
        "id": "ZbP9ik0W8foC"
      },
      "source": [
        "###ranking_factorization_recommender 모델 호출 및 활용"
      ]
    },
    {
      "cell_type": "code",
      "metadata": {
        "id": "053idRyi8M6M"
      },
      "source": [
        "# 모델 호출\n",
        "rf_model = tc.load_model('/content/drive/MyDrive/project/MIB/DATA/hike_ranking_factorization_recommender')"
      ],
      "execution_count": null,
      "outputs": []
    },
    {
      "cell_type": "code",
      "metadata": {
        "id": "Liv_5YUA_LAH"
      },
      "source": [
        "# 기존 유저에게 맞춤형 추천\n",
        "user_rc=rf_model.recommend(users=[1000255], k=10,diversity=3)#[] 안에 아이디 입력/ diversity= 다양성 (0~3) 내에서 선택\n",
        "user_rc"
      ],
      "execution_count": null,
      "outputs": []
    },
    {
      "cell_type": "code",
      "metadata": {
        "id": "4rD9h8UNGG0x"
      },
      "source": [
        "# 신규 유저 'asdfcsdf'/성별:여자/나이:50대 초반\n",
        "users_query = tc.SFrame({'id': ['asdfcsdf23213'], 'sex': [1], 'age':[50.0]})\n",
        "nuser_rc=rf_model.recommend(users=users_query,k=5,diversity=3)\n",
        "nuser_rc"
      ],
      "execution_count": null,
      "outputs": []
    },
    {
      "cell_type": "code",
      "metadata": {
        "id": "XHd1aPjgYCIN"
      },
      "source": [
        "# 조건 걸고 추천 받기 \n",
        "#예시는 유저가 미국에서 사는 사람일 경우 미국의 제품만 추천받는 코드\n",
        "#우리 모델 생성에 문제가 있는지 비슷하게 만들어도 작동되지 않음...\n",
        "\"\"\"country = 'United States'\n",
        "m.recommend(users=users['user_id'][users['country']==country].unique(),\n",
        "            items=items['item_id'][items['country']==country])\"\"\""
      ],
      "execution_count": null,
      "outputs": []
    },
    {
      "cell_type": "markdown",
      "metadata": {
        "id": "acz6RQskGKBy"
      },
      "source": [
        "###item-item similarities based on users 모델 호출 및 사용(최근접이웃)"
      ]
    },
    {
      "cell_type": "code",
      "metadata": {
        "id": "eoLLyoWLxB7m"
      },
      "source": [
        "#모델 호출\n",
        "ii_model = tc.load_model('/content/drive/MyDrive/project/MIB/DATA/hike_item_item_model')"
      ],
      "execution_count": null,
      "outputs": []
    },
    {
      "cell_type": "code",
      "metadata": {
        "id": "9FlIuQpbxfx-"
      },
      "source": [
        "#기존 유저에게 추천\n",
        "ii_model.recommend(users=[1000255], k=10,diversity=3)\n",
        "#-> 사용자 히스토리 부족으로 스코어가 제대로 계산되지 않음"
      ],
      "execution_count": null,
      "outputs": []
    },
    {
      "cell_type": "markdown",
      "metadata": {
        "id": "x5BfoJjCY256"
      },
      "source": [
        "###콘텐츠 기반 추천"
      ]
    },
    {
      "cell_type": "code",
      "metadata": {
        "id": "fKmYkI9FY51_"
      },
      "source": [
        "#모델 호출\n",
        "c_model = tc.load_model('/content/drive/MyDrive/project/MIB/DATA/hike_content_recommender')"
      ],
      "execution_count": null,
      "outputs": []
    },
    {
      "cell_type": "code",
      "metadata": {
        "id": "fB-SXJLwZWo4"
      },
      "source": [
        "#기존 유저에게 추천\n",
        "c_model=recommend(users=[1000255], k=10)"
      ],
      "execution_count": null,
      "outputs": []
    },
    {
      "cell_type": "markdown",
      "metadata": {
        "id": "86gENejIQgvb"
      },
      "source": [
        "###SGD/ials/adagrad 비교.\n",
        "최적화를 수행하는 알고리즘:<br>\n",
        "ials: Implicit Alternating Least Squares<br> \n",
        "adagrad: Adaptive Gradient Stochastic Gradient Descent<br>\n",
        "sgd: Stochastic Gradient Descent<br>\n",
        "\n",
        "\n",
        "https://eda-ai-lab.tistory.com/528 참조\n"
      ]
    },
    {
      "cell_type": "code",
      "metadata": {
        "id": "sMq9CpaQQxi6"
      },
      "source": [
        "data=pd.read_csv('/content/drive/MyDrive/project/MIB/DATA/df_h_e_final.csv')"
      ],
      "execution_count": null,
      "outputs": []
    },
    {
      "cell_type": "code",
      "metadata": {
        "id": "gZv_gQSkRDcd"
      },
      "source": [
        "#테스트셋/ 데이터셋 분리\n",
        "d=tc.SFrame(data)\n",
        "train,test = tc.recommender.util.random_split_by_user(d,user_id='id',item_id='f_name')"
      ],
      "execution_count": null,
      "outputs": []
    },
    {
      "cell_type": "code",
      "metadata": {
        "id": "GVR-bDFp5DzV"
      },
      "source": [
        "import time# 시간 체크"
      ],
      "execution_count": null,
      "outputs": []
    },
    {
      "cell_type": "code",
      "metadata": {
        "id": "dYoxUncQij55"
      },
      "source": [
        "s1 = time.time() #als 사용\n",
        "ials_m=tc.recommender.ranking_factorization_recommender.create(train,user_id='id',item_id='f_name',solver='ials')\n",
        "print(\"time :\", time.time() - s1)  # 현재시각 - 시작시간 = 실행 시간\n",
        "\n",
        "#s2 = time.time() \n",
        "#adagrad_m=tc.recommender.ranking_factorization_recommender.create(train,user_id='id',item_id='f_name',solver='adagrad')\n",
        "#print(\"time :\", time.time() - s2)  # 현재시각 - 시작시간 = 실행 시간\n",
        "\n",
        "s3 = time.time() # sgd 사용\n",
        "sgd_m=tc.recommender.ranking_factorization_recommender.create(train,user_id='id',item_id='f_name',solver='sgd')\n",
        "print(\"time :\", time.time() - s3)  # 현재시각 - 시작시간 = 실행 시간"
      ],
      "execution_count": null,
      "outputs": []
    },
    {
      "cell_type": "code",
      "metadata": {
        "id": "_EqJvsj8lUGs"
      },
      "source": [
        "ials_m.recommend(users=[1000255])"
      ],
      "execution_count": null,
      "outputs": []
    },
    {
      "cell_type": "code",
      "metadata": {
        "id": "vrL4RU7TeQ2j"
      },
      "source": [
        "sgd_m.recommend(users=[1000255])"
      ],
      "execution_count": null,
      "outputs": []
    }
  ]
}