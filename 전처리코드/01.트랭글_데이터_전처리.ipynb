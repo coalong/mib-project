{
 "cells": [
  {
   "cell_type": "markdown",
   "id": "8c255485",
   "metadata": {},
   "source": [
    "## 1. 일단 필요한 라이브러리를 호출합니다."
   ]
  },
  {
   "cell_type": "code",
   "execution_count": 1,
   "id": "343bcd34",
   "metadata": {},
   "outputs": [],
   "source": [
    "#라이브러리 호출\n",
    "\n",
    "import gpxpy\n",
    "import pandas as pd\n",
    "import os\n",
    "from glob import glob"
   ]
  },
  {
   "cell_type": "markdown",
   "id": "498d4164",
   "metadata": {},
   "source": [
    "## 2. 다수의 GPX 파일에서 필요한 피쳐를 가져오기 위해, 아래 함수를 사용합니다.\n",
    "* 파일(이름), 트랙(길이, 최고속도, 최저고도, 움직인시간, 쉬는시간, Elevation_gain), 포인트 정보(트랙 첫 포인트 위도 , 트랙 첫 포인트 경도, 트랙 첫 포인트 시간)까지 11개 항목을 컬럼 추가하는 내용입니다."
   ]
  },
  {
   "cell_type": "code",
   "execution_count": 2,
   "id": "4f1298d4",
   "metadata": {},
   "outputs": [],
   "source": [
    "def load_run_data(gpx_path):\n",
    "    gpx_files = glob(os.path.join(gpx_path, \"*.gpx\"))\n",
    "    run_data = []\n",
    "    \n",
    "    for file_idx, gpx_file in enumerate(gpx_files):\n",
    "        data = []\n",
    "        try:\n",
    "            gpx = gpxpy.parse(open(gpx_file, 'r', encoding='utf-8'))\n",
    "        except:\n",
    "            continue\n",
    "            \n",
    "        for point_idx, point in enumerate(gpx.tracks[0].segments[0].points):\n",
    "            data.append(gpx.tracks[0].segments[0].get_speed(point_idx))\n",
    "\n",
    "        \n",
    "        run_data.append([os.path.basename(gpx_file), # 파일 이름\n",
    "                         gpx.tracks[0].length_3d() / 1000, # 트랙길이(km)\n",
    "                         gpx.tracks[0].get_moving_data().max_speed * 3.6, # 최고속도(km/h)\n",
    "                         pd.Series(data).median()*3.6 # 속도 중앙값 \n",
    "                         gpx.tracks[0].get_elevation_extremes().minimum, # 최저고도(m)\n",
    "                         gpx.tracks[0].get_elevation_extremes().maximum, # 최고고도(m)\n",
    "                         gpx.tracks[0].get_moving_data().moving_time, # 움직인 시간(s)\n",
    "                         gpx.tracks[0].get_moving_data().stopped_time, # 쉬는 시간(s)\n",
    "                         gpx.tracks[0].get_uphill_downhill().uphill, # 누적 고도 이득(m)\n",
    "                         gpx.tracks[0].segments[0].points[0].latitude, # 트랙 첫 포인트 위도 \n",
    "                         gpx.tracks[0].segments[0].points[0].longitude, # 트랙 첫 포인트 경도\n",
    "                         gpx.tracks[0].segments[0].points[0].time # 트랙 첫 포인트 시간(yyyy-mm-dd hh:mm:ss)\n",
    "                        ])\n",
    "    return run_data"
   ]
  },
  {
   "cell_type": "markdown",
   "id": "bc1c14fa",
   "metadata": {},
   "source": [
    "### 3. 트랭글 데이터(GPX 파일)에서 필요한 피처 추출하여 데이터 프레임 만들기"
   ]
  },
  {
   "cell_type": "code",
   "execution_count": null,
   "id": "7b7540ff",
   "metadata": {},
   "outputs": [],
   "source": [
    "# 2019년 데이터\n",
    "\n",
    "data1 = load_run_data('D:/Trangle_Data/Trangle_GPX/2019_done')\n",
    "\n",
    "df1 = pd.DataFrame(data1, columns=['f_name',\n",
    "                                 'track_length','top_speed', 'speed_median', 'lowest_ele', 'top_ele',\n",
    "                                 'moving_time', 'stopped_time', 'elevation_gain',\n",
    "                                 'p1_lat', 'p1_lon', 'p1_time'])\n",
    "df1"
   ]
  },
  {
   "cell_type": "code",
   "execution_count": null,
   "id": "e1996b95",
   "metadata": {},
   "outputs": [],
   "source": [
    "# 2020년 데이터 \n",
    "\n",
    "data2 = load_run_data('D:/Trangle_Data/Trangle_GPX/2020_done')\n",
    "\n",
    "df2 = pd.DataFrame(data2, columns=['f_name',\n",
    "                                 'track_length','top_speed', 'speed_median', 'lowest_ele', 'top_ele',\n",
    "                                 'moving_time', 'stopped_time', 'elevation_gain',\n",
    "                                 'p1_lat', 'p1_lon', 'p1_time'])\n",
    "df2"
   ]
  },
  {
   "cell_type": "markdown",
   "id": "20e889ae",
   "metadata": {},
   "source": [
    "### 4. 만들어진 데이터 프레임을 CSV파일로 저장\n",
    "* 이전까지 Python 'gpxpy' 라이브러리를 이용하여 GPX 파일을pandas.DataFrame으로 변환하는 과정을 정리해 봤습니다.\n",
    "* 이제는 만들어진 pandas.DataFrame을 CSV파일로 저장하여 활용하면 됩니다."
   ]
  },
  {
   "cell_type": "code",
   "execution_count": null,
   "id": "cb7c2932",
   "metadata": {},
   "outputs": [],
   "source": [
    "# pandas.DataFrame을 csv파일로 변환(2019년 데이터)   \n",
    "\n",
    "\n",
    "df.to_csv(\"D:/Trangle_Data/Trangle_GPX/2019_done.csv\")"
   ]
  },
  {
   "cell_type": "code",
   "execution_count": null,
   "id": "412950ee",
   "metadata": {},
   "outputs": [],
   "source": [
    "# pandas.DataFrame을 csv파일로 변환(2020년 데이터)\n",
    "\n",
    "df.to_csv(\"D:/Trangle_Data/Trangle_GPX/2020_done.csv\")"
   ]
  },
  {
   "cell_type": "code",
   "execution_count": null,
   "id": "c97bdae6",
   "metadata": {},
   "outputs": [],
   "source": []
  }
 ],
 "metadata": {
  "kernelspec": {
   "display_name": "Python 3",
   "language": "python",
   "name": "python3"
  },
  "language_info": {
   "codemirror_mode": {
    "name": "ipython",
    "version": 3
   },
   "file_extension": ".py",
   "mimetype": "text/x-python",
   "name": "python",
   "nbconvert_exporter": "python",
   "pygments_lexer": "ipython3",
   "version": "3.6.13"
  }
 },
 "nbformat": 4,
 "nbformat_minor": 5
}
